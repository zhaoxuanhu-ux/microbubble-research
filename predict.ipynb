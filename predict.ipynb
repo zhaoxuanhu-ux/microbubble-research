{
 "cells": [
  {
   "cell_type": "code",
   "execution_count": 12,
   "metadata": {},
   "outputs": [],
   "source": [
    "import os\n",
    "import numpy as np\n",
    "import configparser\n",
    "from keras.models import model_from_json\n",
    "from keras.models import Model\n",
    "from keras.layers import Input, Conv2D, MaxPooling2D, UpSampling2D, core, Dropout, concatenate,Activation,BatchNormalization\n",
    "from keras.callbacks import ModelCheckpoint,TensorBoard\n",
    "\n",
    "from skimage import io\n",
    "from skimage.color import rgb2gray\n",
    "from skimage.morphology import skeletonize\n",
    "from skimage.util import invert\n",
    "import matplotlib\n",
    "import math"
   ]
  },
  {
   "cell_type": "code",
   "execution_count": 16,
   "metadata": {},
   "outputs": [],
   "source": [
    "def getShallowUnet(patch_height,patch_width,n_ch):\n",
    "    #\n",
    "    inputs = Input((patch_height, patch_width,n_ch))\n",
    "    #\n",
    "    conv1 = Conv2D(32, (3, 3), padding=\"same\", activation=\"relu\")(inputs)\n",
    "    conv1 = Dropout(0.2)(conv1)\n",
    "    conv1 = Conv2D(32, (3, 3), padding=\"same\", activation=\"relu\")(conv1)\n",
    "    print(conv1.shape)\n",
    "    #\n",
    "    pool1 = MaxPooling2D(pool_size=(2, 2))(conv1)\n",
    "    print(pool1.shape)\n",
    "    #\n",
    "    conv2 = Conv2D(64, (3, 3), padding=\"same\", activation=\"relu\")(pool1)\n",
    "    conv2 = Dropout(0.2)(conv2)\n",
    "    conv2 = Conv2D(64, (3, 3), padding=\"same\", activation=\"relu\")(conv2)\n",
    "    print(conv2.shape)\n",
    "    #\n",
    "    pool2 = MaxPooling2D(pool_size=(2, 2))(conv2)\n",
    "    print(pool2.shape)\n",
    "    #\n",
    "    conv3 = Conv2D(128, (3, 3), activation='relu', padding='same')(pool2)\n",
    "    conv3 = Dropout(0.2)(conv3)\n",
    "    conv3 = Conv2D(128, (3, 3), activation='relu', padding='same')(conv3)\n",
    "    print(conv3.shape)\n",
    "    #\n",
    "    up1 = concatenate([UpSampling2D(size=(2, 2))(conv3), conv2], axis=-1)\n",
    "    print(up1.shape)\n",
    "    #\n",
    "    conv4 = Conv2D(64, (3, 3), activation='relu', padding='same')(up1)\n",
    "    conv4 = Dropout(0.2)(conv4)\n",
    "    conv4 = Conv2D(64, (3, 3), activation='relu', padding='same')(conv4)\n",
    "    print(conv4.shape)\n",
    "    #\n",
    "    up2 = concatenate([UpSampling2D(size=(2, 2))(conv4), conv1], axis=-1)\n",
    "    print(up2.shape)\n",
    "    #\n",
    "    conv5 = Conv2D(32, (3, 3), activation='relu', padding='same')(up2)\n",
    "    conv5 = Dropout(0.2)(conv5)\n",
    "    conv5 = Conv2D(32, (3, 3), activation='relu', padding='same')(conv5)\n",
    "    print(conv5.shape)\n",
    "    #\n",
    "    conv6 = Conv2D(2, (1, 1), activation='relu', padding='same')(conv5)\n",
    "    print(conv6.shape)\n",
    "    conv6 = core.Reshape((2,patch_height*patch_width))(conv6)\n",
    "    print(conv6.shape)\n",
    "    conv6 = core.Permute((2,1))(conv6)\n",
    "    print(conv6.shape)\n",
    "    #\n",
    "    conv7 = core.Activation('softmax')(conv6)\n",
    "    print(conv7.shape)\n",
    "\n",
    "    model = Model(inputs=inputs, outputs=conv7)\n",
    "\n",
    "    model.compile(optimizer='adam', loss='categorical_crossentropy',metrics=['accuracy'])\n",
    "    model.summary()\n",
    "\n",
    "    return model"
   ]
  },
  {
   "cell_type": "code",
   "execution_count": 13,
   "metadata": {},
   "outputs": [],
   "source": [
    "def getShallowUnet2(patch_height,patch_width,n_ch):\n",
    "    #\n",
    "    inputs = Input((patch_height, patch_width,n_ch))\n",
    "    #\n",
    "    conv1 = Conv2D(32, (3, 3), padding=\"same\")(inputs)\n",
    "    conv1 = BatchNormalization()(conv1)\n",
    "    conv1 = Activation('relu')(conv1)\n",
    "    conv1 = Dropout(0.2)(conv1)\n",
    "    \n",
    "    conv1 = Conv2D(32, (3, 3), padding=\"same\")(conv1)\n",
    "    conv1 = BatchNormalization()(conv1)\n",
    "    conv1 = Activation('relu')(conv1)\n",
    "    print(conv1.shape)\n",
    "    #\n",
    "    pool1 = MaxPooling2D(pool_size=(2, 2))(conv1)\n",
    "    print(pool1.shape)\n",
    "    #\n",
    "    conv2 = Conv2D(64, (3, 3), padding=\"same\")(pool1)\n",
    "    conv2 = BatchNormalization()(conv2)\n",
    "    conv2 = Activation('relu')(conv2)\n",
    "    conv2 = Dropout(0.2)(conv2)\n",
    "    \n",
    "    conv2 = Conv2D(64, (3, 3), padding=\"same\")(conv2)\n",
    "    conv2 = BatchNormalization()(conv2)\n",
    "    conv2 = Activation('relu')(conv2)\n",
    "    print(conv2.shape)\n",
    "    #\n",
    "    pool2 = MaxPooling2D(pool_size=(2, 2))(conv2)\n",
    "    print(pool2.shape)\n",
    "    #\n",
    "    conv3 = Conv2D(128, (3, 3), padding='same')(pool2)\n",
    "    conv3 = BatchNormalization()(conv3)\n",
    "    conv3 = Activation('relu')(conv3)\n",
    "    conv3 = Dropout(0.2)(conv3)\n",
    "    \n",
    "    conv3 = Conv2D(128, (3, 3), padding='same')(conv3)\n",
    "    conv3 = BatchNormalization()(conv3)\n",
    "    conv3 = Activation('relu')(conv3)\n",
    "    print(conv3.shape)\n",
    "    #\n",
    "    up1 = concatenate([UpSampling2D(size=(2, 2))(conv3), conv2], axis=-1)\n",
    "    print(up1.shape)\n",
    "    #\n",
    "    conv4 = Conv2D(64, (3, 3),padding='same')(up1)\n",
    "    conv4 = BatchNormalization()(conv4)\n",
    "    conv4 = Activation('relu')(conv4)\n",
    "    conv4 = Dropout(0.2)(conv4)\n",
    "    \n",
    "    conv4 = Conv2D(64, (3, 3), padding='same')(conv4)\n",
    "    conv4 = BatchNormalization()(conv4)\n",
    "    conv4 = Activation('relu')(conv4)\n",
    "    print(conv4.shape)\n",
    "    #\n",
    "    up2 = concatenate([UpSampling2D(size=(2, 2))(conv4), conv1], axis=-1)\n",
    "    print(up2.shape)\n",
    "    #\n",
    "    conv5 = Conv2D(32, (3, 3), padding='same')(up2)\n",
    "    conv5 = BatchNormalization()(conv5)\n",
    "    conv5 = Activation('relu')(conv5)\n",
    "    conv5 = Dropout(0.2)(conv5)\n",
    "    \n",
    "    conv5 = Conv2D(32, (3, 3), padding='same')(conv5)\n",
    "    conv5 = BatchNormalization()(conv5)\n",
    "    conv5 = Activation('relu')(conv5)\n",
    "    print(conv5.shape)\n",
    "    #\n",
    "    conv6 = Conv2D(2, (1, 1), activation='relu', padding='same')(conv5)\n",
    "    print(conv6.shape)\n",
    "    conv6 = core.Reshape((2,patch_height*patch_width))(conv6)\n",
    "    print(conv6.shape)\n",
    "    conv6 = core.Permute((2,1))(conv6)\n",
    "    print(conv6.shape)\n",
    "    #\n",
    "    conv7 = core.Activation('softmax')(conv6)\n",
    "    print(conv7.shape)\n",
    "\n",
    "    model = Model(inputs=inputs, outputs=conv7)\n",
    "\n",
    "    model.compile(optimizer='adam', loss='categorical_crossentropy',metrics=['accuracy'])\n",
    "    model.summary()\n",
    "\n",
    "    return model"
   ]
  },
  {
   "cell_type": "code",
   "execution_count": 14,
   "metadata": {},
   "outputs": [],
   "source": [
    "#read config\n",
    "config = configparser.RawConfigParser()\n",
    "config.read('configuration.txt')\n",
    "\n",
    "#data location info\n",
    "original_imgs_test = config.get('data paths', 'test_data')\n",
    "predictions_test = config.get('data paths', 'test_preds')\n",
    "\n",
    "#patches info\n",
    "patch_height = int(config.get('data attributes', 'patch_height'))\n",
    "patch_width = int(config.get('data attributes', 'patch_width'))\n",
    "stride_height = int(config.get('testing settings', 'stride_height'))\n",
    "stride_width = int(config.get('testing settings', 'stride_width'))\n",
    "\n",
    "assert (stride_height < patch_height and stride_width < patch_width)"
   ]
  },
  {
   "cell_type": "code",
   "execution_count": 15,
   "metadata": {},
   "outputs": [
    {
     "name": "stdout",
     "output_type": "stream",
     "text": [
      "(?, 32, 32, 32)\n",
      "(?, 16, 16, 32)\n",
      "(?, 16, 16, 64)\n",
      "(?, 8, 8, 64)\n",
      "(?, 8, 8, 128)\n",
      "(?, 16, 16, 192)\n",
      "(?, 16, 16, 64)\n",
      "(?, 32, 32, 96)\n",
      "(?, 32, 32, 32)\n",
      "(?, 32, 32, 2)\n",
      "(?, 2, 1024)\n",
      "(?, 1024, 2)\n",
      "(?, 1024, 2)\n",
      "__________________________________________________________________________________________________\n",
      "Layer (type)                    Output Shape         Param #     Connected to                     \n",
      "==================================================================================================\n",
      "input_2 (InputLayer)            (None, 32, 32, 1)    0                                            \n",
      "__________________________________________________________________________________________________\n",
      "conv2d_12 (Conv2D)              (None, 32, 32, 32)   320         input_2[0][0]                    \n",
      "__________________________________________________________________________________________________\n",
      "batch_normalization_11 (BatchNo (None, 32, 32, 32)   128         conv2d_12[0][0]                  \n",
      "__________________________________________________________________________________________________\n",
      "activation_12 (Activation)      (None, 32, 32, 32)   0           batch_normalization_11[0][0]     \n",
      "__________________________________________________________________________________________________\n",
      "dropout_6 (Dropout)             (None, 32, 32, 32)   0           activation_12[0][0]              \n",
      "__________________________________________________________________________________________________\n",
      "conv2d_13 (Conv2D)              (None, 32, 32, 32)   9248        dropout_6[0][0]                  \n",
      "__________________________________________________________________________________________________\n",
      "batch_normalization_12 (BatchNo (None, 32, 32, 32)   128         conv2d_13[0][0]                  \n",
      "__________________________________________________________________________________________________\n",
      "activation_13 (Activation)      (None, 32, 32, 32)   0           batch_normalization_12[0][0]     \n",
      "__________________________________________________________________________________________________\n",
      "max_pooling2d_3 (MaxPooling2D)  (None, 16, 16, 32)   0           activation_13[0][0]              \n",
      "__________________________________________________________________________________________________\n",
      "conv2d_14 (Conv2D)              (None, 16, 16, 64)   18496       max_pooling2d_3[0][0]            \n",
      "__________________________________________________________________________________________________\n",
      "batch_normalization_13 (BatchNo (None, 16, 16, 64)   256         conv2d_14[0][0]                  \n",
      "__________________________________________________________________________________________________\n",
      "activation_14 (Activation)      (None, 16, 16, 64)   0           batch_normalization_13[0][0]     \n",
      "__________________________________________________________________________________________________\n",
      "dropout_7 (Dropout)             (None, 16, 16, 64)   0           activation_14[0][0]              \n",
      "__________________________________________________________________________________________________\n",
      "conv2d_15 (Conv2D)              (None, 16, 16, 64)   36928       dropout_7[0][0]                  \n",
      "__________________________________________________________________________________________________\n",
      "batch_normalization_14 (BatchNo (None, 16, 16, 64)   256         conv2d_15[0][0]                  \n",
      "__________________________________________________________________________________________________\n",
      "activation_15 (Activation)      (None, 16, 16, 64)   0           batch_normalization_14[0][0]     \n",
      "__________________________________________________________________________________________________\n",
      "max_pooling2d_4 (MaxPooling2D)  (None, 8, 8, 64)     0           activation_15[0][0]              \n",
      "__________________________________________________________________________________________________\n",
      "conv2d_16 (Conv2D)              (None, 8, 8, 128)    73856       max_pooling2d_4[0][0]            \n",
      "__________________________________________________________________________________________________\n",
      "batch_normalization_15 (BatchNo (None, 8, 8, 128)    512         conv2d_16[0][0]                  \n",
      "__________________________________________________________________________________________________\n",
      "activation_16 (Activation)      (None, 8, 8, 128)    0           batch_normalization_15[0][0]     \n",
      "__________________________________________________________________________________________________\n",
      "dropout_8 (Dropout)             (None, 8, 8, 128)    0           activation_16[0][0]              \n",
      "__________________________________________________________________________________________________\n",
      "conv2d_17 (Conv2D)              (None, 8, 8, 128)    147584      dropout_8[0][0]                  \n",
      "__________________________________________________________________________________________________\n",
      "batch_normalization_16 (BatchNo (None, 8, 8, 128)    512         conv2d_17[0][0]                  \n",
      "__________________________________________________________________________________________________\n",
      "activation_17 (Activation)      (None, 8, 8, 128)    0           batch_normalization_16[0][0]     \n",
      "__________________________________________________________________________________________________\n",
      "up_sampling2d_3 (UpSampling2D)  (None, 16, 16, 128)  0           activation_17[0][0]              \n",
      "__________________________________________________________________________________________________\n",
      "concatenate_3 (Concatenate)     (None, 16, 16, 192)  0           up_sampling2d_3[0][0]            \n",
      "                                                                 activation_15[0][0]              \n",
      "__________________________________________________________________________________________________\n",
      "conv2d_18 (Conv2D)              (None, 16, 16, 64)   110656      concatenate_3[0][0]              \n",
      "__________________________________________________________________________________________________\n",
      "batch_normalization_17 (BatchNo (None, 16, 16, 64)   256         conv2d_18[0][0]                  \n",
      "__________________________________________________________________________________________________\n",
      "activation_18 (Activation)      (None, 16, 16, 64)   0           batch_normalization_17[0][0]     \n",
      "__________________________________________________________________________________________________\n",
      "dropout_9 (Dropout)             (None, 16, 16, 64)   0           activation_18[0][0]              \n",
      "__________________________________________________________________________________________________\n",
      "conv2d_19 (Conv2D)              (None, 16, 16, 64)   36928       dropout_9[0][0]                  \n",
      "__________________________________________________________________________________________________\n",
      "batch_normalization_18 (BatchNo (None, 16, 16, 64)   256         conv2d_19[0][0]                  \n",
      "__________________________________________________________________________________________________\n",
      "activation_19 (Activation)      (None, 16, 16, 64)   0           batch_normalization_18[0][0]     \n",
      "__________________________________________________________________________________________________\n",
      "up_sampling2d_4 (UpSampling2D)  (None, 32, 32, 64)   0           activation_19[0][0]              \n",
      "__________________________________________________________________________________________________\n",
      "concatenate_4 (Concatenate)     (None, 32, 32, 96)   0           up_sampling2d_4[0][0]            \n",
      "                                                                 activation_13[0][0]              \n",
      "__________________________________________________________________________________________________\n",
      "conv2d_20 (Conv2D)              (None, 32, 32, 32)   27680       concatenate_4[0][0]              \n",
      "__________________________________________________________________________________________________\n",
      "batch_normalization_19 (BatchNo (None, 32, 32, 32)   128         conv2d_20[0][0]                  \n",
      "__________________________________________________________________________________________________\n",
      "activation_20 (Activation)      (None, 32, 32, 32)   0           batch_normalization_19[0][0]     \n",
      "__________________________________________________________________________________________________\n",
      "dropout_10 (Dropout)            (None, 32, 32, 32)   0           activation_20[0][0]              \n",
      "__________________________________________________________________________________________________\n",
      "conv2d_21 (Conv2D)              (None, 32, 32, 32)   9248        dropout_10[0][0]                 \n",
      "__________________________________________________________________________________________________\n",
      "batch_normalization_20 (BatchNo (None, 32, 32, 32)   128         conv2d_21[0][0]                  \n",
      "__________________________________________________________________________________________________\n",
      "activation_21 (Activation)      (None, 32, 32, 32)   0           batch_normalization_20[0][0]     \n",
      "__________________________________________________________________________________________________\n",
      "conv2d_22 (Conv2D)              (None, 32, 32, 2)    66          activation_21[0][0]              \n",
      "__________________________________________________________________________________________________\n",
      "reshape_2 (Reshape)             (None, 2, 1024)      0           conv2d_22[0][0]                  \n",
      "__________________________________________________________________________________________________\n",
      "permute_2 (Permute)             (None, 1024, 2)      0           reshape_2[0][0]                  \n",
      "__________________________________________________________________________________________________\n",
      "activation_22 (Activation)      (None, 1024, 2)      0           permute_2[0][0]                  \n",
      "==================================================================================================\n",
      "Total params: 473,570\n",
      "Trainable params: 472,290\n",
      "Non-trainable params: 1,280\n",
      "__________________________________________________________________________________________________\n"
     ]
    }
   ],
   "source": [
    "#load trained model\n",
    "model = getShallowUnet2(patch_width, patch_height, 1)\n",
    "model.load_weights('bestWeights11.h5')"
   ]
  },
  {
   "cell_type": "code",
   "execution_count": 16,
   "metadata": {},
   "outputs": [],
   "source": [
    "def add_outline(img, patch_h, patch_w, stride_h, stride_w):\n",
    "    \n",
    "    print(img.shape)\n",
    "    img_h = img.shape[0]               \n",
    "    img_w = img.shape[1]               \n",
    "    leftover_h = (img_h-patch_h)%stride_h   \n",
    "    leftover_w = (img_w-patch_w)%stride_w   \n",
    "    \n",
    "    if (leftover_h != 0):\n",
    "        tmp = np.zeros((img_h+(stride_h-leftover_h),img_w,1))\n",
    "        tmp[0:img_h,0:img_w,:] = img\n",
    "        img = tmp\n",
    "    if (leftover_w != 0):\n",
    "        tmp = np.zeros((img.shape[0],img_w+(stride_w - leftover_w)))\n",
    "        tmp[0:img.shape[0],0:img_w] = img\n",
    "        img = tmp\n",
    "        \n",
    "    print (\"new image shape: \\n\" +str(img.shape))\n",
    "    \n",
    "    return img"
   ]
  },
  {
   "cell_type": "code",
   "execution_count": 17,
   "metadata": {},
   "outputs": [],
   "source": [
    "def get_patches(img, patch_h, patch_w, stride_h, stride_w):\n",
    "    \n",
    "    h = img.shape[0] \n",
    "    w = img.shape[1] \n",
    "    \n",
    "    assert ((h-patch_h)%stride_h==0 and (w-patch_w)%stride_w==0)\n",
    "    \n",
    "    H = (h-patch_h)//stride_h+1\n",
    "    W = (w-patch_w)//stride_w+1\n",
    "   \n",
    "    patches = np.empty((W*H,patch_h,patch_w,1))\n",
    "    iter_tot = 0\n",
    "    \n",
    "    for h in range(H):\n",
    "        for w in range(W):\n",
    "            patch = img[h*stride_h:(h*stride_h)+patch_h,w*stride_w:(w*stride_w)+patch_w,:]\n",
    "            patches[iter_tot]=patch\n",
    "            iter_tot +=1\n",
    "    \n",
    "    return patches"
   ]
  },
  {
   "cell_type": "code",
   "execution_count": 18,
   "metadata": {},
   "outputs": [],
   "source": [
    "def pred_to_img(pred, patch_h, patch_w):\n",
    "    \n",
    "    assert (len(pred.shape)==3)\n",
    "    assert (pred.shape[2]==2)\n",
    "    pred_image = np.empty((pred.shape[0],pred.shape[1])) \n",
    "    \n",
    "    for i in range(pred.shape[0]):\n",
    "        for pix in range(pred.shape[1]):\n",
    "            pred_image[i,pix] = pred[i,pix,0]\n",
    "            \n",
    "    pred_image = np.reshape(pred_image,(pred_image.shape[0], patch_h, patch_w, 1))\n",
    "    \n",
    "    return pred_image"
   ]
  },
  {
   "cell_type": "code",
   "execution_count": 19,
   "metadata": {},
   "outputs": [],
   "source": [
    "def build_img_from_patches(preds, img_h, img_w, stride_h, stride_w):\n",
    "    \n",
    "    patch_h = preds.shape[1]\n",
    "    patch_w = preds.shape[2]\n",
    "    \n",
    "    H = (img_h-patch_h)//stride_h+1\n",
    "    W = (img_w-patch_w)//stride_w+1\n",
    "  \n",
    "    prob = np.zeros((img_h, img_w, 1)) \n",
    "    _sum = np.zeros((img_h, img_w, 1))\n",
    "\n",
    "    k = 0\n",
    "    \n",
    "    for h in range(H):\n",
    "        for w in range(W):\n",
    "            prob[h*stride_h:(h*stride_h)+patch_h,w*stride_w:(w*stride_w)+patch_w,:]+=preds[k]\n",
    "            _sum[h*stride_h:(h*stride_h)+patch_h,w*stride_w:(w*stride_w)+patch_w,:]+=1\n",
    "            k+=1\n",
    "    \n",
    "    final_avg = prob/_sum\n",
    "    print (final_avg.shape)\n",
    "    \n",
    "    return final_avg"
   ]
  },
  {
   "cell_type": "code",
   "execution_count": 20,
   "metadata": {},
   "outputs": [],
   "source": [
    "def predict_img(org_path):\n",
    "    \n",
    "    org = io.imread(org_path)\n",
    "    org = rgb2gray(org)\n",
    "    org = np.asarray(org, dtype='float16')\n",
    "    print ('original image: ' + org_path)\n",
    "    \n",
    "    height = org.shape[0]\n",
    "    width = org.shape[1]\n",
    "    \n",
    "    print ('image dims: (%d x %d)' % (height, width))\n",
    "    \n",
    "    org = np.reshape(org,(height, width, 1))\n",
    "    assert(org.shape == (height, width, 1))\n",
    "    \n",
    "    org = add_outline(org, patch_height, patch_width, stride_height, stride_width)\n",
    "   \n",
    "    new_height = org.shape[0]\n",
    "    new_width = org.shape[1]\n",
    "   \n",
    "    print ('new image dims: (%d x %d)' % (new_height, new_width))\n",
    "   \n",
    "    org = np.reshape(org,(new_height, new_width, 1))\n",
    "    assert(org.shape == (new_height, new_width, 1))\n",
    "   \n",
    "    patches = get_patches(org, patch_height, patch_width, stride_height, stride_width)\n",
    "    print(patches.shape)\n",
    "\n",
    "    predictions = model.predict(patches, batch_size=32, verbose=2)\n",
    "    print (\"predicted images size :\")\n",
    "    print (predictions.shape)\n",
    "    \n",
    "    pred_patches = pred_to_img(predictions, patch_height, patch_width)\n",
    "    pred_img = build_img_from_patches(pred_patches, new_height, new_width, stride_height, stride_width)\n",
    " \n",
    "    return pred_img"
   ]
  },
  {
   "cell_type": "code",
   "execution_count": 21,
   "metadata": {},
   "outputs": [
    {
     "name": "stdout",
     "output_type": "stream",
     "text": [
      "./data/test/org/corneacrop-5-6-3.tif\n",
      "original image: ./data/test/org/corneacrop-5-6-3.tif\n",
      "image dims: (500 x 500)\n",
      "(500, 500, 1)\n",
      "new image shape: \n",
      "(500, 500, 1)\n",
      "new image dims: (500 x 500)\n",
      "(55225, 32, 32, 1)\n",
      "predicted images size :\n",
      "(55225, 1024, 2)\n",
      "(500, 500, 1)\n"
     ]
    },
    {
     "name": "stderr",
     "output_type": "stream",
     "text": [
      "/software/tensorflow/2.0.0b/lib/python3.7/site-packages/skimage/io/_io.py:141: UserWarning: ./data/test/pred/corneacrop-5-6-3.tif is a low contrast image\n",
      "  warn('%s is a low contrast image' % fname)\n"
     ]
    },
    {
     "name": "stdout",
     "output_type": "stream",
     "text": [
      "./data/test/org/corneacrop-5-3-3.tif\n",
      "original image: ./data/test/org/corneacrop-5-3-3.tif\n",
      "image dims: (500 x 500)\n",
      "(500, 500, 1)\n",
      "new image shape: \n",
      "(500, 500, 1)\n",
      "new image dims: (500 x 500)\n",
      "(55225, 32, 32, 1)\n",
      "predicted images size :\n",
      "(55225, 1024, 2)\n",
      "(500, 500, 1)\n"
     ]
    },
    {
     "name": "stderr",
     "output_type": "stream",
     "text": [
      "/software/tensorflow/2.0.0b/lib/python3.7/site-packages/skimage/io/_io.py:141: UserWarning: ./data/test/pred/corneacrop-5-3-3.tif is a low contrast image\n",
      "  warn('%s is a low contrast image' % fname)\n"
     ]
    },
    {
     "name": "stdout",
     "output_type": "stream",
     "text": [
      "./data/test/org/corneacrop-5-3-1.tif\n",
      "original image: ./data/test/org/corneacrop-5-3-1.tif\n",
      "image dims: (500 x 500)\n",
      "(500, 500, 1)\n",
      "new image shape: \n",
      "(500, 500, 1)\n",
      "new image dims: (500 x 500)\n",
      "(55225, 32, 32, 1)\n",
      "predicted images size :\n",
      "(55225, 1024, 2)\n",
      "(500, 500, 1)\n"
     ]
    },
    {
     "name": "stderr",
     "output_type": "stream",
     "text": [
      "/software/tensorflow/2.0.0b/lib/python3.7/site-packages/skimage/io/_io.py:141: UserWarning: ./data/test/pred/corneacrop-5-3-1.tif is a low contrast image\n",
      "  warn('%s is a low contrast image' % fname)\n"
     ]
    },
    {
     "name": "stdout",
     "output_type": "stream",
     "text": [
      "./data/test/org/corneacrop-5-3-6.tif\n",
      "original image: ./data/test/org/corneacrop-5-3-6.tif\n",
      "image dims: (500 x 500)\n",
      "(500, 500, 1)\n",
      "new image shape: \n",
      "(500, 500, 1)\n",
      "new image dims: (500 x 500)\n",
      "(55225, 32, 32, 1)\n",
      "predicted images size :\n",
      "(55225, 1024, 2)\n",
      "(500, 500, 1)\n"
     ]
    },
    {
     "name": "stderr",
     "output_type": "stream",
     "text": [
      "/software/tensorflow/2.0.0b/lib/python3.7/site-packages/skimage/io/_io.py:141: UserWarning: ./data/test/pred/corneacrop-5-3-6.tif is a low contrast image\n",
      "  warn('%s is a low contrast image' % fname)\n"
     ]
    },
    {
     "name": "stdout",
     "output_type": "stream",
     "text": [
      "./data/test/org/corneacrop-5-6-6.tif\n",
      "original image: ./data/test/org/corneacrop-5-6-6.tif\n",
      "image dims: (500 x 500)\n",
      "(500, 500, 1)\n",
      "new image shape: \n",
      "(500, 500, 1)\n",
      "new image dims: (500 x 500)\n",
      "(55225, 32, 32, 1)\n",
      "predicted images size :\n",
      "(55225, 1024, 2)\n",
      "(500, 500, 1)\n"
     ]
    },
    {
     "name": "stderr",
     "output_type": "stream",
     "text": [
      "/software/tensorflow/2.0.0b/lib/python3.7/site-packages/skimage/io/_io.py:141: UserWarning: ./data/test/pred/corneacrop-5-6-6.tif is a low contrast image\n",
      "  warn('%s is a low contrast image' % fname)\n"
     ]
    },
    {
     "name": "stdout",
     "output_type": "stream",
     "text": [
      "./data/test/org/corneacrop-5-9-5.tif\n",
      "original image: ./data/test/org/corneacrop-5-9-5.tif\n",
      "image dims: (500 x 500)\n",
      "(500, 500, 1)\n",
      "new image shape: \n",
      "(500, 500, 1)\n",
      "new image dims: (500 x 500)\n",
      "(55225, 32, 32, 1)\n",
      "predicted images size :\n",
      "(55225, 1024, 2)\n",
      "(500, 500, 1)\n"
     ]
    },
    {
     "name": "stderr",
     "output_type": "stream",
     "text": [
      "/software/tensorflow/2.0.0b/lib/python3.7/site-packages/skimage/io/_io.py:141: UserWarning: ./data/test/pred/corneacrop-5-9-5.tif is a low contrast image\n",
      "  warn('%s is a low contrast image' % fname)\n"
     ]
    },
    {
     "name": "stdout",
     "output_type": "stream",
     "text": [
      "./data/test/org/corneacrop-5-9-4.tif\n",
      "original image: ./data/test/org/corneacrop-5-9-4.tif\n",
      "image dims: (500 x 500)\n",
      "(500, 500, 1)\n",
      "new image shape: \n",
      "(500, 500, 1)\n",
      "new image dims: (500 x 500)\n",
      "(55225, 32, 32, 1)\n",
      "predicted images size :\n",
      "(55225, 1024, 2)\n",
      "(500, 500, 1)\n"
     ]
    },
    {
     "name": "stderr",
     "output_type": "stream",
     "text": [
      "/software/tensorflow/2.0.0b/lib/python3.7/site-packages/skimage/io/_io.py:141: UserWarning: ./data/test/pred/corneacrop-5-9-4.tif is a low contrast image\n",
      "  warn('%s is a low contrast image' % fname)\n"
     ]
    },
    {
     "name": "stdout",
     "output_type": "stream",
     "text": [
      "./data/test/org/corneacrop-5-9-6.tif\n",
      "original image: ./data/test/org/corneacrop-5-9-6.tif\n",
      "image dims: (500 x 500)\n",
      "(500, 500, 1)\n",
      "new image shape: \n",
      "(500, 500, 1)\n",
      "new image dims: (500 x 500)\n",
      "(55225, 32, 32, 1)\n",
      "predicted images size :\n",
      "(55225, 1024, 2)\n",
      "(500, 500, 1)\n"
     ]
    },
    {
     "name": "stderr",
     "output_type": "stream",
     "text": [
      "/software/tensorflow/2.0.0b/lib/python3.7/site-packages/skimage/io/_io.py:141: UserWarning: ./data/test/pred/corneacrop-5-9-6.tif is a low contrast image\n",
      "  warn('%s is a low contrast image' % fname)\n"
     ]
    },
    {
     "name": "stdout",
     "output_type": "stream",
     "text": [
      "./data/test/org/corneacrop-5-12-4.tif\n",
      "original image: ./data/test/org/corneacrop-5-12-4.tif\n",
      "image dims: (500 x 500)\n",
      "(500, 500, 1)\n",
      "new image shape: \n",
      "(500, 500, 1)\n",
      "new image dims: (500 x 500)\n",
      "(55225, 32, 32, 1)\n",
      "predicted images size :\n",
      "(55225, 1024, 2)\n",
      "(500, 500, 1)\n"
     ]
    },
    {
     "name": "stderr",
     "output_type": "stream",
     "text": [
      "/software/tensorflow/2.0.0b/lib/python3.7/site-packages/skimage/io/_io.py:141: UserWarning: ./data/test/pred/corneacrop-5-12-4.tif is a low contrast image\n",
      "  warn('%s is a low contrast image' % fname)\n"
     ]
    },
    {
     "name": "stdout",
     "output_type": "stream",
     "text": [
      "./data/test/org/corneacrop-5-12-5.tif\n",
      "original image: ./data/test/org/corneacrop-5-12-5.tif\n",
      "image dims: (500 x 500)\n",
      "(500, 500, 1)\n",
      "new image shape: \n",
      "(500, 500, 1)\n",
      "new image dims: (500 x 500)\n",
      "(55225, 32, 32, 1)\n",
      "predicted images size :\n",
      "(55225, 1024, 2)\n",
      "(500, 500, 1)\n"
     ]
    },
    {
     "name": "stderr",
     "output_type": "stream",
     "text": [
      "/software/tensorflow/2.0.0b/lib/python3.7/site-packages/skimage/io/_io.py:141: UserWarning: ./data/test/pred/corneacrop-5-12-5.tif is a low contrast image\n",
      "  warn('%s is a low contrast image' % fname)\n"
     ]
    },
    {
     "name": "stdout",
     "output_type": "stream",
     "text": [
      "./data/test/org/corneacrop-5-center-6.tif\n",
      "original image: ./data/test/org/corneacrop-5-center-6.tif\n",
      "image dims: (500 x 500)\n",
      "(500, 500, 1)\n",
      "new image shape: \n",
      "(500, 500, 1)\n",
      "new image dims: (500 x 500)\n",
      "(55225, 32, 32, 1)\n",
      "predicted images size :\n",
      "(55225, 1024, 2)\n",
      "(500, 500, 1)\n"
     ]
    },
    {
     "name": "stderr",
     "output_type": "stream",
     "text": [
      "/software/tensorflow/2.0.0b/lib/python3.7/site-packages/skimage/io/_io.py:141: UserWarning: ./data/test/pred/corneacrop-5-center-6.tif is a low contrast image\n",
      "  warn('%s is a low contrast image' % fname)\n"
     ]
    },
    {
     "name": "stdout",
     "output_type": "stream",
     "text": [
      "./data/test/org/corneacrop-5-6-2.tif\n",
      "original image: ./data/test/org/corneacrop-5-6-2.tif\n",
      "image dims: (500 x 500)\n",
      "(500, 500, 1)\n",
      "new image shape: \n",
      "(500, 500, 1)\n",
      "new image dims: (500 x 500)\n",
      "(55225, 32, 32, 1)\n",
      "predicted images size :\n",
      "(55225, 1024, 2)\n",
      "(500, 500, 1)\n"
     ]
    },
    {
     "name": "stderr",
     "output_type": "stream",
     "text": [
      "/software/tensorflow/2.0.0b/lib/python3.7/site-packages/skimage/io/_io.py:141: UserWarning: ./data/test/pred/corneacrop-5-6-2.tif is a low contrast image\n",
      "  warn('%s is a low contrast image' % fname)\n"
     ]
    },
    {
     "name": "stdout",
     "output_type": "stream",
     "text": [
      "./data/test/org/corneacrop-5-3-5.tif\n",
      "original image: ./data/test/org/corneacrop-5-3-5.tif\n",
      "image dims: (500 x 500)\n",
      "(500, 500, 1)\n",
      "new image shape: \n",
      "(500, 500, 1)\n",
      "new image dims: (500 x 500)\n",
      "(55225, 32, 32, 1)\n",
      "predicted images size :\n",
      "(55225, 1024, 2)\n",
      "(500, 500, 1)\n"
     ]
    },
    {
     "name": "stderr",
     "output_type": "stream",
     "text": [
      "/software/tensorflow/2.0.0b/lib/python3.7/site-packages/skimage/io/_io.py:141: UserWarning: ./data/test/pred/corneacrop-5-3-5.tif is a low contrast image\n",
      "  warn('%s is a low contrast image' % fname)\n"
     ]
    },
    {
     "name": "stdout",
     "output_type": "stream",
     "text": [
      "./data/test/org/corneacrop-5-6-4.tif\n",
      "original image: ./data/test/org/corneacrop-5-6-4.tif\n",
      "image dims: (500 x 500)\n",
      "(500, 500, 1)\n",
      "new image shape: \n",
      "(500, 500, 1)\n",
      "new image dims: (500 x 500)\n",
      "(55225, 32, 32, 1)\n",
      "predicted images size :\n",
      "(55225, 1024, 2)\n",
      "(500, 500, 1)\n"
     ]
    },
    {
     "name": "stderr",
     "output_type": "stream",
     "text": [
      "/software/tensorflow/2.0.0b/lib/python3.7/site-packages/skimage/io/_io.py:141: UserWarning: ./data/test/pred/corneacrop-5-6-4.tif is a low contrast image\n",
      "  warn('%s is a low contrast image' % fname)\n"
     ]
    },
    {
     "name": "stdout",
     "output_type": "stream",
     "text": [
      "./data/test/org/corneacrop-5-3-2.tif\n",
      "original image: ./data/test/org/corneacrop-5-3-2.tif\n",
      "image dims: (500 x 500)\n",
      "(500, 500, 1)\n",
      "new image shape: \n",
      "(500, 500, 1)\n",
      "new image dims: (500 x 500)\n",
      "(55225, 32, 32, 1)\n",
      "predicted images size :\n",
      "(55225, 1024, 2)\n",
      "(500, 500, 1)\n"
     ]
    },
    {
     "name": "stderr",
     "output_type": "stream",
     "text": [
      "/software/tensorflow/2.0.0b/lib/python3.7/site-packages/skimage/io/_io.py:141: UserWarning: ./data/test/pred/corneacrop-5-3-2.tif is a low contrast image\n",
      "  warn('%s is a low contrast image' % fname)\n"
     ]
    },
    {
     "name": "stdout",
     "output_type": "stream",
     "text": [
      "./data/test/org/corneacrop-5-9-3.tif\n",
      "original image: ./data/test/org/corneacrop-5-9-3.tif\n",
      "image dims: (500 x 500)\n",
      "(500, 500, 1)\n",
      "new image shape: \n",
      "(500, 500, 1)\n",
      "new image dims: (500 x 500)\n",
      "(55225, 32, 32, 1)\n",
      "predicted images size :\n",
      "(55225, 1024, 2)\n",
      "(500, 500, 1)\n"
     ]
    },
    {
     "name": "stderr",
     "output_type": "stream",
     "text": [
      "/software/tensorflow/2.0.0b/lib/python3.7/site-packages/skimage/io/_io.py:141: UserWarning: ./data/test/pred/corneacrop-5-9-3.tif is a low contrast image\n",
      "  warn('%s is a low contrast image' % fname)\n"
     ]
    },
    {
     "name": "stdout",
     "output_type": "stream",
     "text": [
      "./data/test/org/corneacrop-5-center-2.tif\n",
      "original image: ./data/test/org/corneacrop-5-center-2.tif\n",
      "image dims: (500 x 500)\n",
      "(500, 500, 1)\n",
      "new image shape: \n",
      "(500, 500, 1)\n",
      "new image dims: (500 x 500)\n",
      "(55225, 32, 32, 1)\n",
      "predicted images size :\n",
      "(55225, 1024, 2)\n",
      "(500, 500, 1)\n"
     ]
    },
    {
     "name": "stderr",
     "output_type": "stream",
     "text": [
      "/software/tensorflow/2.0.0b/lib/python3.7/site-packages/skimage/io/_io.py:141: UserWarning: ./data/test/pred/corneacrop-5-center-2.tif is a low contrast image\n",
      "  warn('%s is a low contrast image' % fname)\n"
     ]
    },
    {
     "name": "stdout",
     "output_type": "stream",
     "text": [
      "./data/test/org/corneacrop-5-6-1.tif\n",
      "original image: ./data/test/org/corneacrop-5-6-1.tif\n",
      "image dims: (500 x 500)\n",
      "(500, 500, 1)\n",
      "new image shape: \n",
      "(500, 500, 1)\n",
      "new image dims: (500 x 500)\n",
      "(55225, 32, 32, 1)\n",
      "predicted images size :\n",
      "(55225, 1024, 2)\n",
      "(500, 500, 1)\n"
     ]
    },
    {
     "name": "stderr",
     "output_type": "stream",
     "text": [
      "/software/tensorflow/2.0.0b/lib/python3.7/site-packages/skimage/io/_io.py:141: UserWarning: ./data/test/pred/corneacrop-5-6-1.tif is a low contrast image\n",
      "  warn('%s is a low contrast image' % fname)\n"
     ]
    },
    {
     "name": "stdout",
     "output_type": "stream",
     "text": [
      "./data/test/org/corneacrop-5-3-4.tif\n",
      "original image: ./data/test/org/corneacrop-5-3-4.tif\n",
      "image dims: (500 x 500)\n",
      "(500, 500, 1)\n",
      "new image shape: \n",
      "(500, 500, 1)\n",
      "new image dims: (500 x 500)\n",
      "(55225, 32, 32, 1)\n",
      "predicted images size :\n",
      "(55225, 1024, 2)\n",
      "(500, 500, 1)\n"
     ]
    },
    {
     "name": "stderr",
     "output_type": "stream",
     "text": [
      "/software/tensorflow/2.0.0b/lib/python3.7/site-packages/skimage/io/_io.py:141: UserWarning: ./data/test/pred/corneacrop-5-3-4.tif is a low contrast image\n",
      "  warn('%s is a low contrast image' % fname)\n"
     ]
    },
    {
     "name": "stdout",
     "output_type": "stream",
     "text": [
      "./data/test/org/corneacrop-5-9-1.tif\n",
      "original image: ./data/test/org/corneacrop-5-9-1.tif\n",
      "image dims: (500 x 500)\n",
      "(500, 500, 1)\n",
      "new image shape: \n",
      "(500, 500, 1)\n",
      "new image dims: (500 x 500)\n",
      "(55225, 32, 32, 1)\n",
      "predicted images size :\n",
      "(55225, 1024, 2)\n",
      "(500, 500, 1)\n"
     ]
    },
    {
     "name": "stderr",
     "output_type": "stream",
     "text": [
      "/software/tensorflow/2.0.0b/lib/python3.7/site-packages/skimage/io/_io.py:141: UserWarning: ./data/test/pred/corneacrop-5-9-1.tif is a low contrast image\n",
      "  warn('%s is a low contrast image' % fname)\n"
     ]
    },
    {
     "name": "stdout",
     "output_type": "stream",
     "text": [
      "./data/test/org/corneacrop-5-12-1.tif\n",
      "original image: ./data/test/org/corneacrop-5-12-1.tif\n",
      "image dims: (500 x 500)\n",
      "(500, 500, 1)\n",
      "new image shape: \n",
      "(500, 500, 1)\n",
      "new image dims: (500 x 500)\n",
      "(55225, 32, 32, 1)\n",
      "predicted images size :\n",
      "(55225, 1024, 2)\n",
      "(500, 500, 1)\n"
     ]
    },
    {
     "name": "stderr",
     "output_type": "stream",
     "text": [
      "/software/tensorflow/2.0.0b/lib/python3.7/site-packages/skimage/io/_io.py:141: UserWarning: ./data/test/pred/corneacrop-5-12-1.tif is a low contrast image\n",
      "  warn('%s is a low contrast image' % fname)\n"
     ]
    },
    {
     "name": "stdout",
     "output_type": "stream",
     "text": [
      "./data/test/org/corneacrop-5-12-3.tif\n",
      "original image: ./data/test/org/corneacrop-5-12-3.tif\n",
      "image dims: (500 x 500)\n",
      "(500, 500, 1)\n",
      "new image shape: \n",
      "(500, 500, 1)\n",
      "new image dims: (500 x 500)\n",
      "(55225, 32, 32, 1)\n",
      "predicted images size :\n",
      "(55225, 1024, 2)\n",
      "(500, 500, 1)\n"
     ]
    },
    {
     "name": "stderr",
     "output_type": "stream",
     "text": [
      "/software/tensorflow/2.0.0b/lib/python3.7/site-packages/skimage/io/_io.py:141: UserWarning: ./data/test/pred/corneacrop-5-12-3.tif is a low contrast image\n",
      "  warn('%s is a low contrast image' % fname)\n"
     ]
    },
    {
     "name": "stdout",
     "output_type": "stream",
     "text": [
      "./data/test/org/corneacrop-5-center-1.tif\n",
      "original image: ./data/test/org/corneacrop-5-center-1.tif\n",
      "image dims: (500 x 500)\n",
      "(500, 500, 1)\n",
      "new image shape: \n",
      "(500, 500, 1)\n",
      "new image dims: (500 x 500)\n",
      "(55225, 32, 32, 1)\n",
      "predicted images size :\n",
      "(55225, 1024, 2)\n",
      "(500, 500, 1)\n"
     ]
    },
    {
     "name": "stderr",
     "output_type": "stream",
     "text": [
      "/software/tensorflow/2.0.0b/lib/python3.7/site-packages/skimage/io/_io.py:141: UserWarning: ./data/test/pred/corneacrop-5-center-1.tif is a low contrast image\n",
      "  warn('%s is a low contrast image' % fname)\n"
     ]
    },
    {
     "name": "stdout",
     "output_type": "stream",
     "text": [
      "./data/test/org/corneacrop-5-12-2.tif\n",
      "original image: ./data/test/org/corneacrop-5-12-2.tif\n",
      "image dims: (500 x 500)\n",
      "(500, 500, 1)\n",
      "new image shape: \n",
      "(500, 500, 1)\n",
      "new image dims: (500 x 500)\n",
      "(55225, 32, 32, 1)\n",
      "predicted images size :\n",
      "(55225, 1024, 2)\n",
      "(500, 500, 1)\n"
     ]
    },
    {
     "name": "stderr",
     "output_type": "stream",
     "text": [
      "/software/tensorflow/2.0.0b/lib/python3.7/site-packages/skimage/io/_io.py:141: UserWarning: ./data/test/pred/corneacrop-5-12-2.tif is a low contrast image\n",
      "  warn('%s is a low contrast image' % fname)\n"
     ]
    },
    {
     "name": "stdout",
     "output_type": "stream",
     "text": [
      "./data/test/org/corneacrop-5-center-5.tif\n",
      "original image: ./data/test/org/corneacrop-5-center-5.tif\n",
      "image dims: (500 x 500)\n",
      "(500, 500, 1)\n",
      "new image shape: \n",
      "(500, 500, 1)\n",
      "new image dims: (500 x 500)\n",
      "(55225, 32, 32, 1)\n",
      "predicted images size :\n",
      "(55225, 1024, 2)\n",
      "(500, 500, 1)\n"
     ]
    },
    {
     "name": "stderr",
     "output_type": "stream",
     "text": [
      "/software/tensorflow/2.0.0b/lib/python3.7/site-packages/skimage/io/_io.py:141: UserWarning: ./data/test/pred/corneacrop-5-center-5.tif is a low contrast image\n",
      "  warn('%s is a low contrast image' % fname)\n"
     ]
    },
    {
     "name": "stdout",
     "output_type": "stream",
     "text": [
      "./data/test/org/corneacrop-5-9-2.tif\n",
      "original image: ./data/test/org/corneacrop-5-9-2.tif\n",
      "image dims: (500 x 500)\n",
      "(500, 500, 1)\n",
      "new image shape: \n",
      "(500, 500, 1)\n",
      "new image dims: (500 x 500)\n",
      "(55225, 32, 32, 1)\n",
      "predicted images size :\n",
      "(55225, 1024, 2)\n",
      "(500, 500, 1)\n"
     ]
    },
    {
     "name": "stderr",
     "output_type": "stream",
     "text": [
      "/software/tensorflow/2.0.0b/lib/python3.7/site-packages/skimage/io/_io.py:141: UserWarning: ./data/test/pred/corneacrop-5-9-2.tif is a low contrast image\n",
      "  warn('%s is a low contrast image' % fname)\n"
     ]
    },
    {
     "name": "stdout",
     "output_type": "stream",
     "text": [
      "./data/test/org/corneacrop-5-center-4.tif\n",
      "original image: ./data/test/org/corneacrop-5-center-4.tif\n",
      "image dims: (500 x 500)\n",
      "(500, 500, 1)\n",
      "new image shape: \n",
      "(500, 500, 1)\n",
      "new image dims: (500 x 500)\n",
      "(55225, 32, 32, 1)\n",
      "predicted images size :\n",
      "(55225, 1024, 2)\n",
      "(500, 500, 1)\n"
     ]
    },
    {
     "name": "stderr",
     "output_type": "stream",
     "text": [
      "/software/tensorflow/2.0.0b/lib/python3.7/site-packages/skimage/io/_io.py:141: UserWarning: ./data/test/pred/corneacrop-5-center-4.tif is a low contrast image\n",
      "  warn('%s is a low contrast image' % fname)\n"
     ]
    },
    {
     "name": "stdout",
     "output_type": "stream",
     "text": [
      "./data/test/org/corneacrop-5-center-3.tif\n",
      "original image: ./data/test/org/corneacrop-5-center-3.tif\n",
      "image dims: (500 x 500)\n",
      "(500, 500, 1)\n",
      "new image shape: \n",
      "(500, 500, 1)\n",
      "new image dims: (500 x 500)\n",
      "(55225, 32, 32, 1)\n",
      "predicted images size :\n",
      "(55225, 1024, 2)\n",
      "(500, 500, 1)\n"
     ]
    },
    {
     "name": "stderr",
     "output_type": "stream",
     "text": [
      "/software/tensorflow/2.0.0b/lib/python3.7/site-packages/skimage/io/_io.py:141: UserWarning: ./data/test/pred/corneacrop-5-center-3.tif is a low contrast image\n",
      "  warn('%s is a low contrast image' % fname)\n"
     ]
    },
    {
     "name": "stdout",
     "output_type": "stream",
     "text": [
      "./data/test/org/corneacrop-5-12-6.tif\n",
      "original image: ./data/test/org/corneacrop-5-12-6.tif\n",
      "image dims: (500 x 500)\n",
      "(500, 500, 1)\n",
      "new image shape: \n",
      "(500, 500, 1)\n",
      "new image dims: (500 x 500)\n",
      "(55225, 32, 32, 1)\n",
      "predicted images size :\n",
      "(55225, 1024, 2)\n",
      "(500, 500, 1)\n"
     ]
    },
    {
     "name": "stderr",
     "output_type": "stream",
     "text": [
      "/software/tensorflow/2.0.0b/lib/python3.7/site-packages/skimage/io/_io.py:141: UserWarning: ./data/test/pred/corneacrop-5-12-6.tif is a low contrast image\n",
      "  warn('%s is a low contrast image' % fname)\n"
     ]
    },
    {
     "name": "stdout",
     "output_type": "stream",
     "text": [
      "./data/test/org/corneacrop-5-6-5.tif\n",
      "original image: ./data/test/org/corneacrop-5-6-5.tif\n",
      "image dims: (500 x 500)\n",
      "(500, 500, 1)\n",
      "new image shape: \n",
      "(500, 500, 1)\n",
      "new image dims: (500 x 500)\n",
      "(55225, 32, 32, 1)\n",
      "predicted images size :\n",
      "(55225, 1024, 2)\n",
      "(500, 500, 1)\n"
     ]
    },
    {
     "name": "stderr",
     "output_type": "stream",
     "text": [
      "/software/tensorflow/2.0.0b/lib/python3.7/site-packages/skimage/io/_io.py:141: UserWarning: ./data/test/pred/corneacrop-5-6-5.tif is a low contrast image\n",
      "  warn('%s is a low contrast image' % fname)\n"
     ]
    }
   ],
   "source": [
    "#binarize predicted probability map by fixed threshold\n",
    "for path, subdirs, files in os.walk(original_imgs_test):\n",
    "    for i in range(len(files)):\n",
    "        \n",
    "        org_path = original_imgs_test + files[i]\n",
    "        pred_path = predictions_test + files[i]\n",
    "        \n",
    "        print(org_path)\n",
    "        prediction = predict_img(org_path)\n",
    "        prediction2 = np.reshape(prediction, (prediction.shape[0], prediction.shape[1]))\n",
    "        pred = np.empty((prediction2.shape[0],prediction2.shape[1]))\n",
    "        for i in range(prediction2.shape[0]):\n",
    "            for j in range(prediction2.shape[1]):\n",
    "                if prediction2[i][j]>=0.5:\n",
    "                    pred[i][j] = 1\n",
    "                else:\n",
    "                    pred[i][j] = 0\n",
    "        io.imsave(pred_path, pred.astype(np.uint8))"
   ]
  },
  {
   "cell_type": "code",
   "execution_count": 30,
   "metadata": {},
   "outputs": [
    {
     "name": "stdout",
     "output_type": "stream",
     "text": [
      "./data/test/org/corneacrop-4-3-2.tif\n",
      "original image: ./data/test/org/corneacrop-4-3-2.tif\n",
      "image dims: (500 x 500)\n",
      "(500, 500, 1)\n",
      "new image shape: \n",
      "(500, 500, 1)\n",
      "new image dims: (500 x 500)\n",
      "(55225, 32, 32, 1)\n",
      "predicted images size :\n",
      "(55225, 1024, 2)\n",
      "(500, 500, 1)\n"
     ]
    },
    {
     "name": "stderr",
     "output_type": "stream",
     "text": [
      "/software/tensorflow/2.0.0b/lib/python3.7/site-packages/skimage/io/_io.py:141: UserWarning: ./data/test/pred/corneacrop-4-3-2.tif is a low contrast image\n",
      "  warn('%s is a low contrast image' % fname)\n"
     ]
    },
    {
     "name": "stdout",
     "output_type": "stream",
     "text": [
      "./data/test/org/corneacrop-4-12-1.tif\n",
      "original image: ./data/test/org/corneacrop-4-12-1.tif\n",
      "image dims: (500 x 500)\n",
      "(500, 500, 1)\n",
      "new image shape: \n",
      "(500, 500, 1)\n",
      "new image dims: (500 x 500)\n",
      "(55225, 32, 32, 1)\n",
      "predicted images size :\n",
      "(55225, 1024, 2)\n",
      "(500, 500, 1)\n"
     ]
    },
    {
     "name": "stderr",
     "output_type": "stream",
     "text": [
      "/software/tensorflow/2.0.0b/lib/python3.7/site-packages/skimage/io/_io.py:141: UserWarning: ./data/test/pred/corneacrop-4-12-1.tif is a low contrast image\n",
      "  warn('%s is a low contrast image' % fname)\n"
     ]
    },
    {
     "name": "stdout",
     "output_type": "stream",
     "text": [
      "./data/test/org/corneacrop-4-3-3.tif\n",
      "original image: ./data/test/org/corneacrop-4-3-3.tif\n",
      "image dims: (500 x 500)\n",
      "(500, 500, 1)\n",
      "new image shape: \n",
      "(500, 500, 1)\n",
      "new image dims: (500 x 500)\n",
      "(55225, 32, 32, 1)\n",
      "predicted images size :\n",
      "(55225, 1024, 2)\n",
      "(500, 500, 1)\n"
     ]
    },
    {
     "name": "stderr",
     "output_type": "stream",
     "text": [
      "/software/tensorflow/2.0.0b/lib/python3.7/site-packages/skimage/io/_io.py:141: UserWarning: ./data/test/pred/corneacrop-4-3-3.tif is a low contrast image\n",
      "  warn('%s is a low contrast image' % fname)\n"
     ]
    },
    {
     "name": "stdout",
     "output_type": "stream",
     "text": [
      "./data/test/org/corneacrop-4-6-1.tif\n",
      "original image: ./data/test/org/corneacrop-4-6-1.tif\n",
      "image dims: (500 x 500)\n",
      "(500, 500, 1)\n",
      "new image shape: \n",
      "(500, 500, 1)\n",
      "new image dims: (500 x 500)\n",
      "(55225, 32, 32, 1)\n",
      "predicted images size :\n",
      "(55225, 1024, 2)\n",
      "(500, 500, 1)\n"
     ]
    },
    {
     "name": "stderr",
     "output_type": "stream",
     "text": [
      "/software/tensorflow/2.0.0b/lib/python3.7/site-packages/skimage/io/_io.py:141: UserWarning: ./data/test/pred/corneacrop-4-6-1.tif is a low contrast image\n",
      "  warn('%s is a low contrast image' % fname)\n"
     ]
    },
    {
     "name": "stdout",
     "output_type": "stream",
     "text": [
      "./data/test/org/corneacrop-4-center-1.tif\n",
      "original image: ./data/test/org/corneacrop-4-center-1.tif\n",
      "image dims: (500 x 500)\n",
      "(500, 500, 1)\n",
      "new image shape: \n",
      "(500, 500, 1)\n",
      "new image dims: (500 x 500)\n",
      "(55225, 32, 32, 1)\n",
      "predicted images size :\n",
      "(55225, 1024, 2)\n",
      "(500, 500, 1)\n"
     ]
    },
    {
     "name": "stderr",
     "output_type": "stream",
     "text": [
      "/software/tensorflow/2.0.0b/lib/python3.7/site-packages/skimage/io/_io.py:141: UserWarning: ./data/test/pred/corneacrop-4-center-1.tif is a low contrast image\n",
      "  warn('%s is a low contrast image' % fname)\n"
     ]
    },
    {
     "name": "stdout",
     "output_type": "stream",
     "text": [
      "./data/test/org/corneacrop-4-12-3.tif\n",
      "original image: ./data/test/org/corneacrop-4-12-3.tif\n",
      "image dims: (500 x 500)\n",
      "(500, 500, 1)\n",
      "new image shape: \n",
      "(500, 500, 1)\n",
      "new image dims: (500 x 500)\n",
      "(55225, 32, 32, 1)\n",
      "predicted images size :\n",
      "(55225, 1024, 2)\n",
      "(500, 500, 1)\n"
     ]
    },
    {
     "name": "stderr",
     "output_type": "stream",
     "text": [
      "/software/tensorflow/2.0.0b/lib/python3.7/site-packages/skimage/io/_io.py:141: UserWarning: ./data/test/pred/corneacrop-4-12-3.tif is a low contrast image\n",
      "  warn('%s is a low contrast image' % fname)\n"
     ]
    },
    {
     "name": "stdout",
     "output_type": "stream",
     "text": [
      "./data/test/org/corneacrop-4-center-5.tif\n",
      "original image: ./data/test/org/corneacrop-4-center-5.tif\n",
      "image dims: (500 x 500)\n",
      "(500, 500, 1)\n",
      "new image shape: \n",
      "(500, 500, 1)\n",
      "new image dims: (500 x 500)\n",
      "(55225, 32, 32, 1)\n",
      "predicted images size :\n",
      "(55225, 1024, 2)\n",
      "(500, 500, 1)\n"
     ]
    },
    {
     "name": "stderr",
     "output_type": "stream",
     "text": [
      "/software/tensorflow/2.0.0b/lib/python3.7/site-packages/skimage/io/_io.py:141: UserWarning: ./data/test/pred/corneacrop-4-center-5.tif is a low contrast image\n",
      "  warn('%s is a low contrast image' % fname)\n"
     ]
    },
    {
     "name": "stdout",
     "output_type": "stream",
     "text": [
      "./data/test/org/corneacrop-4-12-2.tif\n",
      "original image: ./data/test/org/corneacrop-4-12-2.tif\n",
      "image dims: (500 x 500)\n",
      "(500, 500, 1)\n",
      "new image shape: \n",
      "(500, 500, 1)\n",
      "new image dims: (500 x 500)\n",
      "(55225, 32, 32, 1)\n",
      "predicted images size :\n",
      "(55225, 1024, 2)\n",
      "(500, 500, 1)\n"
     ]
    },
    {
     "name": "stderr",
     "output_type": "stream",
     "text": [
      "/software/tensorflow/2.0.0b/lib/python3.7/site-packages/skimage/io/_io.py:141: UserWarning: ./data/test/pred/corneacrop-4-12-2.tif is a low contrast image\n",
      "  warn('%s is a low contrast image' % fname)\n"
     ]
    },
    {
     "name": "stdout",
     "output_type": "stream",
     "text": [
      "./data/test/org/corneacrop-4-center-6.tif\n",
      "original image: ./data/test/org/corneacrop-4-center-6.tif\n",
      "image dims: (500 x 500)\n",
      "(500, 500, 1)\n",
      "new image shape: \n",
      "(500, 500, 1)\n",
      "new image dims: (500 x 500)\n",
      "(55225, 32, 32, 1)\n",
      "predicted images size :\n",
      "(55225, 1024, 2)\n",
      "(500, 500, 1)\n"
     ]
    },
    {
     "name": "stderr",
     "output_type": "stream",
     "text": [
      "/software/tensorflow/2.0.0b/lib/python3.7/site-packages/skimage/io/_io.py:141: UserWarning: ./data/test/pred/corneacrop-4-center-6.tif is a low contrast image\n",
      "  warn('%s is a low contrast image' % fname)\n"
     ]
    },
    {
     "name": "stdout",
     "output_type": "stream",
     "text": [
      "./data/test/org/corneacrop-4-6-3.tif\n",
      "original image: ./data/test/org/corneacrop-4-6-3.tif\n",
      "image dims: (500 x 500)\n",
      "(500, 500, 1)\n",
      "new image shape: \n",
      "(500, 500, 1)\n",
      "new image dims: (500 x 500)\n",
      "(55225, 32, 32, 1)\n",
      "predicted images size :\n",
      "(55225, 1024, 2)\n",
      "(500, 500, 1)\n"
     ]
    },
    {
     "name": "stderr",
     "output_type": "stream",
     "text": [
      "/software/tensorflow/2.0.0b/lib/python3.7/site-packages/skimage/io/_io.py:141: UserWarning: ./data/test/pred/corneacrop-4-6-3.tif is a low contrast image\n",
      "  warn('%s is a low contrast image' % fname)\n"
     ]
    },
    {
     "name": "stdout",
     "output_type": "stream",
     "text": [
      "./data/test/org/corneacrop-4-3-5.tif\n",
      "original image: ./data/test/org/corneacrop-4-3-5.tif\n",
      "image dims: (500 x 500)\n",
      "(500, 500, 1)\n",
      "new image shape: \n",
      "(500, 500, 1)\n",
      "new image dims: (500 x 500)\n",
      "(55225, 32, 32, 1)\n",
      "predicted images size :\n",
      "(55225, 1024, 2)\n",
      "(500, 500, 1)\n"
     ]
    },
    {
     "name": "stderr",
     "output_type": "stream",
     "text": [
      "/software/tensorflow/2.0.0b/lib/python3.7/site-packages/skimage/io/_io.py:141: UserWarning: ./data/test/pred/corneacrop-4-3-5.tif is a low contrast image\n",
      "  warn('%s is a low contrast image' % fname)\n"
     ]
    },
    {
     "name": "stdout",
     "output_type": "stream",
     "text": [
      "./data/test/org/corneacrop-4-center-3.tif\n",
      "original image: ./data/test/org/corneacrop-4-center-3.tif\n",
      "image dims: (500 x 500)\n",
      "(500, 500, 1)\n",
      "new image shape: \n",
      "(500, 500, 1)\n",
      "new image dims: (500 x 500)\n",
      "(55225, 32, 32, 1)\n",
      "predicted images size :\n",
      "(55225, 1024, 2)\n",
      "(500, 500, 1)\n"
     ]
    },
    {
     "name": "stderr",
     "output_type": "stream",
     "text": [
      "/software/tensorflow/2.0.0b/lib/python3.7/site-packages/skimage/io/_io.py:141: UserWarning: ./data/test/pred/corneacrop-4-center-3.tif is a low contrast image\n",
      "  warn('%s is a low contrast image' % fname)\n"
     ]
    },
    {
     "name": "stdout",
     "output_type": "stream",
     "text": [
      "./data/test/org/corneacrop-4-3-4.tif\n",
      "original image: ./data/test/org/corneacrop-4-3-4.tif\n",
      "image dims: (500 x 500)\n",
      "(500, 500, 1)\n",
      "new image shape: \n",
      "(500, 500, 1)\n",
      "new image dims: (500 x 500)\n",
      "(55225, 32, 32, 1)\n",
      "predicted images size :\n",
      "(55225, 1024, 2)\n",
      "(500, 500, 1)\n"
     ]
    },
    {
     "name": "stderr",
     "output_type": "stream",
     "text": [
      "/software/tensorflow/2.0.0b/lib/python3.7/site-packages/skimage/io/_io.py:141: UserWarning: ./data/test/pred/corneacrop-4-3-4.tif is a low contrast image\n",
      "  warn('%s is a low contrast image' % fname)\n"
     ]
    },
    {
     "name": "stdout",
     "output_type": "stream",
     "text": [
      "./data/test/org/corneacrop-4-6-5.tif\n",
      "original image: ./data/test/org/corneacrop-4-6-5.tif\n",
      "image dims: (500 x 500)\n",
      "(500, 500, 1)\n",
      "new image shape: \n",
      "(500, 500, 1)\n",
      "new image dims: (500 x 500)\n",
      "(55225, 32, 32, 1)\n",
      "predicted images size :\n",
      "(55225, 1024, 2)\n",
      "(500, 500, 1)\n"
     ]
    },
    {
     "name": "stderr",
     "output_type": "stream",
     "text": [
      "/software/tensorflow/2.0.0b/lib/python3.7/site-packages/skimage/io/_io.py:141: UserWarning: ./data/test/pred/corneacrop-4-6-5.tif is a low contrast image\n",
      "  warn('%s is a low contrast image' % fname)\n"
     ]
    },
    {
     "name": "stdout",
     "output_type": "stream",
     "text": [
      "./data/test/org/corneacrop-4-6-2.tif\n",
      "original image: ./data/test/org/corneacrop-4-6-2.tif\n",
      "image dims: (500 x 500)\n",
      "(500, 500, 1)\n",
      "new image shape: \n",
      "(500, 500, 1)\n",
      "new image dims: (500 x 500)\n",
      "(55225, 32, 32, 1)\n",
      "predicted images size :\n",
      "(55225, 1024, 2)\n",
      "(500, 500, 1)\n"
     ]
    },
    {
     "name": "stderr",
     "output_type": "stream",
     "text": [
      "/software/tensorflow/2.0.0b/lib/python3.7/site-packages/skimage/io/_io.py:141: UserWarning: ./data/test/pred/corneacrop-4-6-2.tif is a low contrast image\n",
      "  warn('%s is a low contrast image' % fname)\n"
     ]
    },
    {
     "name": "stdout",
     "output_type": "stream",
     "text": [
      "./data/test/org/corneacrop-4-3-1.tif\n",
      "original image: ./data/test/org/corneacrop-4-3-1.tif\n",
      "image dims: (500 x 500)\n",
      "(500, 500, 1)\n",
      "new image shape: \n",
      "(500, 500, 1)\n",
      "new image dims: (500 x 500)\n",
      "(55225, 32, 32, 1)\n",
      "predicted images size :\n",
      "(55225, 1024, 2)\n",
      "(500, 500, 1)\n"
     ]
    },
    {
     "name": "stderr",
     "output_type": "stream",
     "text": [
      "/software/tensorflow/2.0.0b/lib/python3.7/site-packages/skimage/io/_io.py:141: UserWarning: ./data/test/pred/corneacrop-4-3-1.tif is a low contrast image\n",
      "  warn('%s is a low contrast image' % fname)\n"
     ]
    },
    {
     "name": "stdout",
     "output_type": "stream",
     "text": [
      "./data/test/org/corneacrop-4-6-6.tif\n",
      "original image: ./data/test/org/corneacrop-4-6-6.tif\n",
      "image dims: (500 x 500)\n",
      "(500, 500, 1)\n",
      "new image shape: \n",
      "(500, 500, 1)\n",
      "new image dims: (500 x 500)\n",
      "(55225, 32, 32, 1)\n",
      "predicted images size :\n",
      "(55225, 1024, 2)\n",
      "(500, 500, 1)\n"
     ]
    },
    {
     "name": "stderr",
     "output_type": "stream",
     "text": [
      "/software/tensorflow/2.0.0b/lib/python3.7/site-packages/skimage/io/_io.py:141: UserWarning: ./data/test/pred/corneacrop-4-6-6.tif is a low contrast image\n",
      "  warn('%s is a low contrast image' % fname)\n"
     ]
    },
    {
     "name": "stdout",
     "output_type": "stream",
     "text": [
      "./data/test/org/corneacrop-4-center-2.tif\n",
      "original image: ./data/test/org/corneacrop-4-center-2.tif\n",
      "image dims: (500 x 500)\n",
      "(500, 500, 1)\n",
      "new image shape: \n",
      "(500, 500, 1)\n",
      "new image dims: (500 x 500)\n",
      "(55225, 32, 32, 1)\n",
      "predicted images size :\n",
      "(55225, 1024, 2)\n",
      "(500, 500, 1)\n"
     ]
    },
    {
     "name": "stderr",
     "output_type": "stream",
     "text": [
      "/software/tensorflow/2.0.0b/lib/python3.7/site-packages/skimage/io/_io.py:141: UserWarning: ./data/test/pred/corneacrop-4-center-2.tif is a low contrast image\n",
      "  warn('%s is a low contrast image' % fname)\n"
     ]
    },
    {
     "name": "stdout",
     "output_type": "stream",
     "text": [
      "./data/test/org/corneacrop-4-3-6.tif\n",
      "original image: ./data/test/org/corneacrop-4-3-6.tif\n",
      "image dims: (500 x 500)\n",
      "(500, 500, 1)\n",
      "new image shape: \n",
      "(500, 500, 1)\n",
      "new image dims: (500 x 500)\n",
      "(55225, 32, 32, 1)\n",
      "predicted images size :\n",
      "(55225, 1024, 2)\n",
      "(500, 500, 1)\n"
     ]
    },
    {
     "name": "stderr",
     "output_type": "stream",
     "text": [
      "/software/tensorflow/2.0.0b/lib/python3.7/site-packages/skimage/io/_io.py:141: UserWarning: ./data/test/pred/corneacrop-4-3-6.tif is a low contrast image\n",
      "  warn('%s is a low contrast image' % fname)\n"
     ]
    },
    {
     "name": "stdout",
     "output_type": "stream",
     "text": [
      "./data/test/org/corneacrop-4-12-5.tif\n",
      "original image: ./data/test/org/corneacrop-4-12-5.tif\n",
      "image dims: (500 x 500)\n",
      "(500, 500, 1)\n",
      "new image shape: \n",
      "(500, 500, 1)\n",
      "new image dims: (500 x 500)\n",
      "(55225, 32, 32, 1)\n",
      "predicted images size :\n",
      "(55225, 1024, 2)\n",
      "(500, 500, 1)\n"
     ]
    },
    {
     "name": "stderr",
     "output_type": "stream",
     "text": [
      "/software/tensorflow/2.0.0b/lib/python3.7/site-packages/skimage/io/_io.py:141: UserWarning: ./data/test/pred/corneacrop-4-12-5.tif is a low contrast image\n",
      "  warn('%s is a low contrast image' % fname)\n"
     ]
    },
    {
     "name": "stdout",
     "output_type": "stream",
     "text": [
      "./data/test/org/corneacrop-4-center-4.tif\n",
      "original image: ./data/test/org/corneacrop-4-center-4.tif\n",
      "image dims: (500 x 500)\n",
      "(500, 500, 1)\n",
      "new image shape: \n",
      "(500, 500, 1)\n",
      "new image dims: (500 x 500)\n",
      "(55225, 32, 32, 1)\n",
      "predicted images size :\n",
      "(55225, 1024, 2)\n",
      "(500, 500, 1)\n"
     ]
    },
    {
     "name": "stderr",
     "output_type": "stream",
     "text": [
      "/software/tensorflow/2.0.0b/lib/python3.7/site-packages/skimage/io/_io.py:141: UserWarning: ./data/test/pred/corneacrop-4-center-4.tif is a low contrast image\n",
      "  warn('%s is a low contrast image' % fname)\n"
     ]
    }
   ],
   "source": [
    "#================================================\n",
    "# binarize predicted probability map by adaptive threshold method\n",
    "for path, subdirs, files in os.walk(original_imgs_test):\n",
    "    for i in range(len(files)):\n",
    "        \n",
    "        org_path = original_imgs_test + files[i]\n",
    "        pred_path = predictions_test + files[i]\n",
    "        \n",
    "        print(org_path)\n",
    "        prediction = predict_img(org_path)\n",
    "        prediction2 = np.reshape(prediction, (prediction.shape[0], prediction.shape[1]))\n",
    "        mean_bid = np.empty((10,10))\n",
    "        sd_bid = np.empty((10,10))\n",
    "        for i in range(10):\n",
    "            for j in range(10):\n",
    "                matrix = prediction2[i*50:(i+1)*50,j*50:(j+1)*50]\n",
    "                mean_bid[i,j] = np.mean(matrix)\n",
    "                sd_bid[i,j] = np.std(matrix)\n",
    "        R = math.log(np.max(sd_bid)/np.min(sd_bid),2)\n",
    "        pred = np.empty((prediction2.shape[0],prediction2.shape[1]))\n",
    "        for i in range(prediction2.shape[0]):\n",
    "            for j in range(prediction2.shape[1]):\n",
    "                row = int(i/50)\n",
    "                col = int(j/50)\n",
    "                threshold = mean_bid[row,col]*(1+0.2*(sd_bid[row,col]/R-1))\n",
    "                if prediction2[i][j]>=threshold:\n",
    "                    pred[i][j] = 1\n",
    "                else:\n",
    "                    pred[i][j] = 0\n",
    "        pred = skeletonize(pred)\n",
    "        io.imsave(pred_path, pred.astype(np.uint8))"
   ]
  },
  {
   "cell_type": "code",
   "execution_count": 7,
   "metadata": {},
   "outputs": [],
   "source": [
    "pred = io.imread(predictions_test+'corneacrop-4-12-1.tif')"
   ]
  },
  {
   "cell_type": "code",
   "execution_count": 97,
   "metadata": {},
   "outputs": [],
   "source": [
    "skeleton2 = skeletonize(pred)"
   ]
  },
  {
   "cell_type": "code",
   "execution_count": 99,
   "metadata": {},
   "outputs": [
    {
     "data": {
      "text/plain": [
       "<matplotlib.image.AxesImage at 0x2b69f77b1f28>"
      ]
     },
     "execution_count": 99,
     "metadata": {},
     "output_type": "execute_result"
    },
    {
     "data": {
      "image/png": "[encoded data removed]",
      "text/plain": [
       "<Figure size 432x288 with 1 Axes>"
      ]
     },
     "metadata": {
      "needs_background": "light"
     },
     "output_type": "display_data"
    }
   ],
   "source": [
    "io.imshow(skeleton2)"
   ]
  },
  {
   "cell_type": "code",
   "execution_count": 101,
   "metadata": {},
   "outputs": [
    {
     "data": {
      "text/plain": [
       "<matplotlib.image.AxesImage at 0x2b69f780e630>"
      ]
     },
     "execution_count": 101,
     "metadata": {},
     "output_type": "execute_result"
    },
    {
     "data": {
      "image/png": "[encoded data removed]",
      "text/plain": [
       "<Figure size 432x288 with 1 Axes>"
      ]
     },
     "metadata": {
      "needs_background": "light"
     },
     "output_type": "display_data"
    }
   ],
   "source": [
    "io.imshow(y)"
   ]
  }
 ],
 "metadata": {
  "kernelspec": {
   "display_name": "Python 3 (tensorflow 2.0.0 beta GPU)",
   "language": "python",
   "name": "tensorflow-2.0.0b"
  },
  "language_info": {
   "codemirror_mode": {
    "name": "ipython",
    "version": 3
   },
   "file_extension": ".py",
   "mimetype": "text/x-python",
   "name": "python",
   "nbconvert_exporter": "python",
   "pygments_lexer": "ipython3",
   "version": "3.7.1"
  }
 },
 "nbformat": 4,
 "nbformat_minor": 2
}
