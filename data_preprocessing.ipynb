{
 "cells": [
  {
   "cell_type": "code",
   "execution_count": 1,
   "metadata": {},
   "outputs": [],
   "source": [
    "import os\n",
    "import random\n",
    "import numpy as np\n",
    "import configparser\n",
    "import matplotlib.pyplot as plt\n",
    "\n",
    "from helpers import write_hdf5\n",
    "from helpers import load_hdf5\n",
    "\n",
    "from skimage import io\n",
    "from skimage.color import rgb2gray"
   ]
  },
  {
   "cell_type": "code",
   "execution_count": 2,
   "metadata": {},
   "outputs": [],
   "source": [
    "# get path of images\n",
    "config = configparser.RawConfigParser()\n",
    "config.read('configuration.txt')\n",
    "\n",
    "dataset_path = config.get('data paths', 'path_local')\n",
    "original_imgs_train = config.get('data paths', 'path_org')\n",
    "groundTruth_imgs_train = config.get('data paths', 'path_gt')\n",
    "\n",
    "train_imgs = config.get('data paths', 'train_imgs')\n",
    "train_gt = config.get('data paths', 'train_gt')"
   ]
  },
  {
   "cell_type": "code",
   "execution_count": 3,
   "metadata": {},
   "outputs": [],
   "source": [
    "# get property of image and training data\n",
    "N_train = int(config.get('image props', 'N_train'))\n",
    "n_channels = int(config.get('image props', 'n_channels'))\n",
    "height = int(config.get('image props', 'height'))\n",
    "width = int(config.get('image props', 'width'))\n",
    "\n",
    "patch_height = int(config.get('data attributes','patch_height'))\n",
    "patch_width = int(config.get('data attributes','patch_width'))\n",
    "patch_num = int(config.get('data attributes','patch_num'))"
   ]
  },
  {
   "cell_type": "code",
   "execution_count": 4,
   "metadata": {},
   "outputs": [],
   "source": [
    "# combine training data to array\n",
    "def get_dataset(img_dir, gt_dir, n_imgs):\n",
    "    \n",
    "    imgs = np.empty((n_imgs, height, width)) \n",
    "    groundTruth = np.empty((n_imgs, height, width))\n",
    "    \n",
    "    for path, subdirs, files in os.walk(img_dir):\n",
    "        for i in range(len(files)):\n",
    "            \n",
    "            org_path = img_dir + files[i]\n",
    "            org = io.imread(org_path)\n",
    "            org = rgb2gray(org)\n",
    "            \n",
    "            imgs[i,:,:] = org\n",
    "            #plt.imshow(org, cmap='gray')\n",
    "            \n",
    "            gt_path = gt_dir + files [i]\n",
    "            gt = io.imread(gt_path)\n",
    "            #gt = gt[:,:,0]\n",
    "            groundTruth[i,:,:] = gt\n",
    "        \n",
    "    imgs = np.reshape(imgs,(n_imgs, height, width))    \n",
    "    gts = np.reshape(groundTruth,(n_imgs, height, width))\n",
    "    #gts = gts/255\n",
    "   \n",
    "    return imgs, gts"
   ]
  },
  {
   "cell_type": "code",
   "execution_count": 5,
   "metadata": {},
   "outputs": [],
   "source": [
    "#Load the original data and return the extracted patches for training/testing\n",
    "\n",
    "def extract_random(full_imgs, full_masks, patch_h, patch_w, N_patches):\n",
    "    \n",
    "    if (N_patches%full_imgs.shape[0] != 0):\n",
    "        print (\"N_patches: plase enter a multiple of train images\")\n",
    "        print (N_patches)\n",
    "        print(full_imgs.shape[0])\n",
    "        exit()\n",
    "\n",
    "    patches = np.empty((N_patches,patch_h,patch_w))\n",
    "    patches_masks = np.empty((N_patches,patch_h,patch_w))\n",
    "    img_h = full_imgs.shape[1] \n",
    "    img_w = full_imgs.shape[2] \n",
    "\n",
    "    patch_per_img = int(N_patches/full_imgs.shape[0])\n",
    "    print (\"patches per full image: \" +str(patch_per_img))\n",
    "    iter_tot = 0   \n",
    "    for i in range(full_imgs.shape[0]): \n",
    "        k=0\n",
    "        while k <patch_per_img:\n",
    "            x_center = random.randint(0+int(patch_w/2),img_w-int(patch_w/2))\n",
    "            y_center = random.randint(0+int(patch_h/2),img_h-int(patch_h/2))\n",
    "            patch = full_imgs[i,y_center-int(patch_h/2):y_center+int(patch_h/2),x_center-int(patch_w/2):x_center+int(patch_w/2)]\n",
    "            patch_mask = full_masks[i,y_center-int(patch_h/2):y_center+int(patch_h/2),x_center-int(patch_w/2):x_center+int(patch_w/2)]\n",
    "            patches[iter_tot]=patch\n",
    "            patches_masks[iter_tot]=patch_mask\n",
    "            iter_tot +=1\n",
    "            k+=1\n",
    "            \n",
    "    return patches, patches_masks\n"
   ]
  },
  {
   "cell_type": "code",
   "execution_count": 5,
   "metadata": {},
   "outputs": [],
   "source": [
    "#Load the original data and return the extracted patches for training/testing\n",
    "#改进后的extract patches\n",
    "def extract_random2(full_imgs, full_masks, patch_h, patch_w, N_patches):\n",
    "    \n",
    "    if (N_patches%full_imgs.shape[0] != 0):\n",
    "        print (\"N_patches: plase enter a multiple of train images\")\n",
    "        print (N_patches)\n",
    "        print(full_imgs.shape[0])\n",
    "        exit()\n",
    "\n",
    "    patches = []\n",
    "    patches_masks = []\n",
    "    img_h = full_imgs.shape[1] \n",
    "    img_w = full_imgs.shape[2] \n",
    "\n",
    "    patch_per_img = int(N_patches/full_imgs.shape[0])\n",
    "    print (\"patches per full image: \" +str(patch_per_img))\n",
    "    iter_tot = 0\n",
    "    for i in range(full_imgs.shape[0]): \n",
    "        k=0\n",
    "        black = 0\n",
    "        while k <patch_per_img:\n",
    "            x_center = random.randint(0+int(patch_w/2),img_w-int(patch_w/2))\n",
    "            y_center = random.randint(0+int(patch_h/2),img_h-int(patch_h/2))\n",
    "            patch = full_imgs[i,y_center-int(patch_h/2):y_center+int(patch_h/2),x_center-int(patch_w/2):x_center+int(patch_w/2)]\n",
    "            patch_mask = full_masks[i,y_center-int(patch_h/2):y_center+int(patch_h/2),x_center-int(patch_w/2):x_center+int(patch_w/2)]\n",
    "        \n",
    "            if not(np.max(patch_mask)==np.min(patch_mask)==3.0):\n",
    "                patches.append(patch)\n",
    "                patches_masks.append(patch_mask)\n",
    "                k += 1\n",
    "            elif np.max(patch_mask)==np.min(patch_mask)==3.0 and black<=10:\n",
    "                patches.append(patch)\n",
    "                patches_masks.append(patch_mask)\n",
    "                black += 1\n",
    "                k+=1\n",
    "    patches = np.reshape(patches,(len(patches),patch_h,patch_w)) \n",
    "    patches_masks = np.reshape(patches_masks,(len(patches_masks),patch_h,patch_w))\n",
    "    return patches, patches_masks"
   ]
  },
  {
   "cell_type": "code",
   "execution_count": 6,
   "metadata": {},
   "outputs": [
    {
     "name": "stderr",
     "output_type": "stream",
     "text": [
      "/software/python3/3.6.5/lib/python3.6/site-packages/ipykernel/__main__.py:12: FutureWarning: The behavior of rgb2gray will change in scikit-image 0.19. Currently, rgb2gray allows 2D grayscale image to be passed as inputs and leaves them unmodified as outputs. Starting from version 0.19, 2D arrays will be treated as 1D images with 3 channels.\n"
     ]
    },
    {
     "name": "stdout",
     "output_type": "stream",
     "text": [
      "patches per full image: 200\n",
      "saving train datasets\n"
     ]
    }
   ],
   "source": [
    "#getting the training data\n",
    "imgs_train, groundTruth_train = get_dataset(original_imgs_train, groundTruth_imgs_train, N_train)\n",
    "patches_imgs_train, patches_masks_train = extract_random2(imgs_train, groundTruth_train, patch_height, patch_width, patch_num)\n",
    " \n",
    "print (\"saving train datasets\")\n",
    "write_hdf5(patches_imgs_train, train_imgs)\n",
    "write_hdf5(patches_masks_train, train_gt)   "
   ]
  },
  {
   "cell_type": "code",
   "execution_count": null,
   "metadata": {},
   "outputs": [],
   "source": []
  }
 ],
 "metadata": {
  "kernelspec": {
   "display_name": "Python 3 (3.6.5)",
   "language": "python",
   "name": "python3"
  },
  "language_info": {
   "codemirror_mode": {
    "name": "ipython",
    "version": 3
   },
   "file_extension": ".py",
   "mimetype": "text/x-python",
   "name": "python",
   "nbconvert_exporter": "python",
   "pygments_lexer": "ipython3",
   "version": "3.6.5"
  }
 },
 "nbformat": 4,
 "nbformat_minor": 5
}
